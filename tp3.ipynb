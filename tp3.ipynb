{
 "cells": [
  {
   "cell_type": "markdown",
   "metadata": {},
   "source": [
    "# Trabajo Computacional 3"
   ]
  },
  {
   "cell_type": "code",
   "execution_count": 23,
   "metadata": {
    "collapsed": true
   },
   "outputs": [],
   "source": [
    "import numpy as np\n",
    "import networkx as nx\n",
    "import matplotlib.pyplot as plt\n",
    "import random\n",
    "from __future__ import print_function\n",
    "import community"
   ]
  },
  {
   "cell_type": "code",
   "execution_count": 24,
   "metadata": {
    "collapsed": true
   },
   "outputs": [],
   "source": [
    "def ldata(archive):\n",
    "    f=open(archive)\n",
    "    data=[]\n",
    "    for line in f:\n",
    "        line=line.strip()\n",
    "        col=line.split()\n",
    "        data.append(col)\n",
    "    return data\n",
    "\n",
    "G=nx.read_gml(\"dolphins.gml\")\n",
    "genero=ldata(\"dolphinsGender.txt\")"
   ]
  },
  {
   "cell_type": "code",
   "execution_count": 25,
   "metadata": {},
   "outputs": [
    {
     "data": {
      "text/plain": [
       "generator"
      ]
     },
     "execution_count": 25,
     "metadata": {},
     "output_type": "execute_result"
    }
   ],
   "source": [
    "#edge-betweenness\n",
    "com = nx.algorithms.community.centrality.girvan_newman(G)\n",
    "a=[nodos for nodos in com]\n",
    "type(com)"
   ]
  },
  {
   "cell_type": "code",
   "execution_count": 4,
   "metadata": {
    "collapsed": true
   },
   "outputs": [],
   "source": [
    "Cluster=[]\n",
    "b=0\n",
    "Color=[\"r\",\"g\",\"b\",\"y\",\"k\"]\n",
    "for c in a[3]:\n",
    "    for n in a[3][b]:\n",
    "        Cluster.append([n,Color[b]])\n",
    "        \n",
    "    b+=1\n"
   ]
  },
  {
   "cell_type": "code",
   "execution_count": 7,
   "metadata": {},
   "outputs": [
    {
     "data": {
      "text/plain": [
       "[['SN63', 'r'],\n",
       " ['Thumper', 'r'],\n",
       " ['Whitetip', 'r'],\n",
       " ['TR88', 'r'],\n",
       " ['CCL', 'r'],\n",
       " ['Haecksel', 'r'],\n",
       " ['Zap', 'r'],\n",
       " ['MN60', 'r'],\n",
       " ['TR99', 'r'],\n",
       " ['Patchback', 'r'],\n",
       " ['Vau', 'r'],\n",
       " ['SN100', 'r'],\n",
       " ['Hook', 'r'],\n",
       " ['Grin', 'r'],\n",
       " ['Jonah', 'r'],\n",
       " ['Kringel', 'r'],\n",
       " ['TSN103', 'r'],\n",
       " ['MN105', 'r'],\n",
       " ['Topless', 'r'],\n",
       " ['SMN5', 'r'],\n",
       " ['SN9', 'r'],\n",
       " ['MN83', 'r'],\n",
       " ['TR120', 'r'],\n",
       " ['Five', 'r'],\n",
       " ['SN4', 'r'],\n",
       " ['Cross', 'r'],\n",
       " ['Stripes', 'r'],\n",
       " ['Scabs', 'r'],\n",
       " ['Trigger', 'r'],\n",
       " ['Double', 'r'],\n",
       " ['Shmuddel', 'r'],\n",
       " ['Fork', 'r'],\n",
       " ['Jet', 'g'],\n",
       " ['Beescratch', 'g'],\n",
       " ['Feather', 'g'],\n",
       " ['TR82', 'g'],\n",
       " ['DN63', 'g'],\n",
       " ['Notch', 'g'],\n",
       " ['Number1', 'g'],\n",
       " ['Knit', 'g'],\n",
       " ['Quasi', 'g'],\n",
       " ['Wave', 'g'],\n",
       " ['Web', 'g'],\n",
       " ['MN23', 'g'],\n",
       " ['SN89', 'g'],\n",
       " ['Upbang', 'g'],\n",
       " ['Ripplefluke', 'g'],\n",
       " ['DN16', 'g'],\n",
       " ['Gallatin', 'g'],\n",
       " ['Zig', 'g'],\n",
       " ['DN21', 'g'],\n",
       " ['Mus', 'g'],\n",
       " ['SN90', 'g'],\n",
       " ['Fish', 'b'],\n",
       " ['TR77', 'b'],\n",
       " ['PL', 'b'],\n",
       " ['SN96', 'b'],\n",
       " ['Bumper', 'b'],\n",
       " ['Beak', 'b'],\n",
       " ['Oscar', 'b'],\n",
       " ['Zipfel', 'y'],\n",
       " ['TSN83', 'y']]"
      ]
     },
     "execution_count": 7,
     "metadata": {},
     "output_type": "execute_result"
    }
   ],
   "source": [
    "Cluster2=[]\n",
    "b=0\n",
    "Color=[\"r\",\"g\",\"b\",\"y\",\"k\"]\n",
    "for c in a[2]:\n",
    "    for n in a[2][b]:\n",
    "        Cluster2.append([n,Color[b]])\n",
    "        \n",
    "    b+=1\n",
    "Cluster2"
   ]
  },
  {
   "cell_type": "code",
   "execution_count": 8,
   "metadata": {
    "collapsed": true
   },
   "outputs": [],
   "source": [
    "F=[]                    ##F va a ser el nuevo vector de nodo-genero pero ordenando los nodos de la misma manera que lo hace nx\n",
    "for n in G.nodes():\n",
    "    for k in Cluster:\n",
    "        if k[0]==n:\n",
    "            F.append([k[0],k[1]])"
   ]
  },
  {
   "cell_type": "code",
   "execution_count": 9,
   "metadata": {},
   "outputs": [
    {
     "data": {
      "text/plain": [
       "[['SN89', 'b'],\n",
       " ['Hook', 'r'],\n",
       " ['Thumper', 'r'],\n",
       " ['Grin', 'r'],\n",
       " ['Bumper', 'y'],\n",
       " ['DN16', 'b'],\n",
       " ['Zig', 'b'],\n",
       " ['DN21', 'b'],\n",
       " ['SN90', 'b'],\n",
       " ['TR88', 'r'],\n",
       " ['CCL', 'r'],\n",
       " ['DN63', 'b'],\n",
       " ['Knit', 'b'],\n",
       " ['Haecksel', 'g'],\n",
       " ['Whitetip', 'r'],\n",
       " ['Number1', 'b'],\n",
       " ['TR99', 'r'],\n",
       " ['Vau', 'g'],\n",
       " ['Five', 'g'],\n",
       " ['SN100', 'r'],\n",
       " ['Ripplefluke', 'b'],\n",
       " ['SN96', 'y'],\n",
       " ['SN9', 'r'],\n",
       " ['Stripes', 'r'],\n",
       " ['Jet', 'b'],\n",
       " ['Feather', 'b'],\n",
       " ['Fish', 'y'],\n",
       " ['Jonah', 'g'],\n",
       " ['Notch', 'b'],\n",
       " ['PL', 'y'],\n",
       " ['Quasi', 'b'],\n",
       " ['Kringel', 'r'],\n",
       " ['TSN103', 'r'],\n",
       " ['Wave', 'b'],\n",
       " ['Zap', 'r'],\n",
       " ['Oscar', 'y'],\n",
       " ['MN105', 'g'],\n",
       " ['Topless', 'g'],\n",
       " ['Gallatin', 'b'],\n",
       " ['Mus', 'b'],\n",
       " ['TR82', 'b'],\n",
       " ['TSN83', 'k'],\n",
       " ['MN83', 'g'],\n",
       " ['Beescratch', 'b'],\n",
       " ['TR120', 'r'],\n",
       " ['TR77', 'y'],\n",
       " ['Cross', 'g'],\n",
       " ['SN4', 'r'],\n",
       " ['Double', 'r'],\n",
       " ['MN23', 'b'],\n",
       " ['Zipfel', 'k'],\n",
       " ['Shmuddel', 'r'],\n",
       " ['Beak', 'y'],\n",
       " ['Patchback', 'g'],\n",
       " ['MN60', 'g'],\n",
       " ['Upbang', 'b'],\n",
       " ['Scabs', 'r'],\n",
       " ['Trigger', 'g'],\n",
       " ['SN63', 'r'],\n",
       " ['SMN5', 'g'],\n",
       " ['Fork', 'r'],\n",
       " ['Web', 'b']]"
      ]
     },
     "execution_count": 9,
     "metadata": {},
     "output_type": "execute_result"
    }
   ],
   "source": [
    "F"
   ]
  },
  {
   "cell_type": "code",
   "execution_count": 10,
   "metadata": {},
   "outputs": [
    {
     "data": {
      "image/png": "[encoded data removed]",
      "text/plain": [
       "<matplotlib.figure.Figure at 0x7ff812189748>"
      ]
     },
     "metadata": {},
     "output_type": "display_data"
    }
   ],
   "source": [
    "nx.draw(G,with_labels=False,node_color=[c[1] for c in F])\n",
    "plt.show()"
   ]
  },
  {
   "cell_type": "code",
   "execution_count": 26,
   "metadata": {
    "collapsed": true
   },
   "outputs": [],
   "source": [
    "import networkx as nx\n",
    "import time\n",
    "\n",
    "def calculate_infomap(np_adj_list, method=\"infomap\"):\n",
    "    g = igraph.Graph.Weighted_Adjacency(np_adj_list.tolist(),mode=igraph.ADJ_UPPER)\n",
    "   \n",
    "    t0=time.time()\n",
    "    if method==\"infomap\":\n",
    "        labels = g.community_infomap(edge_weights=\"weight\").membership\n",
    "#    labels = g.community_label_propagation(weights=\"weight\").membership\n",
    "    if method==\"fastgreedy\":\n",
    "        labels = g.community_fastgreedy(edge_weights=\"weight\").membership\n",
    "   \n",
    "    print(\"Duración: {}s\".format(time.time()-t0))\n",
    "           \n",
    "    return labels\n",
    "\n",
    "from __future__ import division\n",
    "\n",
    "from functools import wraps\n",
    "from itertools import product\n",
    "\n",
    "import networkx as nx\n",
    "from networkx import NetworkXError\n",
    "from networkx.utils import not_implemented_for\n",
    "from networkx.algorithms.community.community_utils import is_partition\n",
    "\n",
    "__all__ = ['coverage', 'modularity', 'performance']\n",
    "\n",
    "\n",
    "class NotAPartition(NetworkXError):\n",
    "    \"\"\"Raised if a given collection is not a partition.\n",
    "\n",
    "    \"\"\"\n",
    "\n",
    "    def __init__(self, G, collection):\n",
    "        msg = '{} is not a valid partition of the graph {}'\n",
    "        msg = msg.format(G, collection)\n",
    "        super(NotAPartition, self).__init__(msg)\n",
    "\n",
    "\n",
    "def modularity(G, communities, weight='weight'):\n",
    "    r\"\"\"Returns the modularity of the given partition of the graph.\n",
    "\n",
    "    Modularity is defined in [1]_ as\n",
    "\n",
    "    .. math::\n",
    "\n",
    "        Q = \\frac{1}{2m} \\sum_{ij} \\left( A_{ij} - \\frac{k_ik_j}{2m}\\right)\n",
    "            \\delta(c_i,c_j)\n",
    "\n",
    "    where $m$ is the number of edges, $A$ is the adjacency matrix of\n",
    "    `G`, $k_i$ is the degree of $i$ and $\\delta(c_i, c_j)$\n",
    "    is 1 if $i$ and $j$ are in the same community and 0 otherwise.\n",
    "\n",
    "    Parameters\n",
    "    ----------\n",
    "    G : NetworkX Graph\n",
    "\n",
    "    communities : list\n",
    "        List of sets of nodes of `G` representing a partition of the\n",
    "        nodes.\n",
    "\n",
    "    Returns\n",
    "    -------\n",
    "    Q : float\n",
    "        The modularity of the paritition.\n",
    "\n",
    "    Raises\n",
    "    ------\n",
    "    NotAPartition\n",
    "        If `communities` is not a partition of the nodes of `G`.\n",
    "\n",
    "    Examples\n",
    "    --------\n",
    "    >>> G = nx.barbell_graph(3, 0)\n",
    "    >>> nx.algorithms.community.modularity(G, [{0, 1, 2}, {3, 4, 5}])\n",
    "    0.35714285714285704\n",
    "\n",
    "    References\n",
    "    ----------\n",
    "    .. [1] M. E. J. Newman *Networks: An Introduction*, page 224.\n",
    "       Oxford University Press, 2011.\n",
    "\n",
    "    \"\"\"\n",
    "    if not is_partition(G, communities):\n",
    "        raise NotAPartition(G, communities)\n",
    "\n",
    "    multigraph = G.is_multigraph()\n",
    "    directed = G.is_directed()\n",
    "    m = G.size(weight=weight)\n",
    "    if directed:\n",
    "        out_degree = dict(G.out_degree(weight=weight))\n",
    "        in_degree = dict(G.in_degree(weight=weight))\n",
    "        norm = 1 / m\n",
    "    else:\n",
    "        out_degree = dict(G.degree(weight=weight))\n",
    "        in_degree = out_degree\n",
    "        norm = 1 / (2 * m)\n",
    "\n",
    "    def val(u, v):\n",
    "        try:\n",
    "            if multigraph:\n",
    "                w = sum(d.get(weight, 1) for k, d in G[u][v].items())\n",
    "            else:\n",
    "                w = G[u][v].get(weight, 1)\n",
    "        except KeyError:\n",
    "            w = 0\n",
    "        # Double count self-loops if the graph is undirected.\n",
    "        if u == v and not directed:\n",
    "            w *= 2\n",
    "        return w - in_degree[u] * out_degree[v] * norm\n",
    "\n",
    "    Q = sum(val(u, v) for c in communities for u, v in product(c, repeat=2))\n",
    "    return Q * norm\n",
    "\n"
   ]
  },
  {
   "cell_type": "code",
   "execution_count": 27,
   "metadata": {
    "collapsed": true
   },
   "outputs": [],
   "source": [
    "modular=[]\n",
    "for i in range(len(a)):\n",
    "    modular.append([modularity(G,[cluster for cluster in a[i]]),i])"
   ]
  },
  {
   "cell_type": "code",
   "execution_count": 13,
   "metadata": {
    "scrolled": true
   },
   "outputs": [
    {
     "data": {
      "text/plain": [
       "[[0.5193821446936419, 3],\n",
       " [0.5175625964162793, 5],\n",
       " [0.5139234998615546, 4],\n",
       " [0.4938095803172336, 7],\n",
       " [0.4907242593251836, 6],\n",
       " [0.48955737510383235, 8],\n",
       " [0.48528539219176414, 9],\n",
       " [0.4804596337170202, 10],\n",
       " [0.47541632055693955, 11],\n",
       " [0.47035322969819204, 12],\n",
       " [0.4660021359914558, 13],\n",
       " [0.460919267434041, 14],\n",
       " [0.45807127882599474, 2],\n",
       " [0.45557928879395554, 15],\n",
       " [0.44930975831652187, 16],\n",
       " [0.4390649104070245, 17],\n",
       " [0.42707962501483265, 18],\n",
       " [0.41477789644396945, 19],\n",
       " [0.4055812665638226, 20],\n",
       " [0.3948221984889843, 21],\n",
       " [0.38149202958743694, 1],\n",
       " [0.3812942526007679, 22],\n",
       " [0.37870337407539256, 0],\n",
       " [0.3720382896246198, 23],\n",
       " [0.36179344171512245, 24],\n",
       " [0.34387484672283575, 25],\n",
       " [0.3283295755705869, 26],\n",
       " [0.3178473952770859, 27],\n",
       " [0.30576322139155915, 28],\n",
       " [0.2950041533167204, 29],\n",
       " [0.2889126221272896, 30],\n",
       " [0.2686009255962978, 31],\n",
       " [0.2544796487480719, 32],\n",
       " [0.2428503619318858, 33],\n",
       " [0.22694909220363144, 34],\n",
       " [0.214410031248764, 35],\n",
       " [0.19435544480044284, 36],\n",
       " [0.18142082987223596, 37],\n",
       " [0.1643328982239625, 38],\n",
       " [0.15240694592777163, 39],\n",
       " [0.14619674854633893, 40],\n",
       " [0.13996677346623923, 41],\n",
       " [0.12428305842332162, 42],\n",
       " [0.10351647482298944, 43],\n",
       " [0.09772160911356349, 44],\n",
       " [0.08383766464934145, 45],\n",
       " [0.07539258731853965, 46],\n",
       " [0.07034927415845896, 47],\n",
       " [0.05919465211028046, 48],\n",
       " [0.04788180847276612, 49],\n",
       " [0.039001621771290705, 50],\n",
       " [0.03310786756852973, 51],\n",
       " [0.026937225584431002, 52],\n",
       " [0.016731933072267714, 53],\n",
       " [0.011510620624184181, 54],\n",
       " [0.005814643408093041, 55],\n",
       " [-0.000177999288002849, 56],\n",
       " [-0.005755310312092087, 57],\n",
       " [-0.011866619200189863, 58],\n",
       " [-0.016771488469601678, 59],\n",
       " [-0.021399469957675724, 60]]"
      ]
     },
     "execution_count": 13,
     "metadata": {},
     "output_type": "execute_result"
    }
   ],
   "source": [
    "sorted(modular,reverse=True)"
   ]
  },
  {
   "cell_type": "code",
   "execution_count": 28,
   "metadata": {
    "collapsed": true
   },
   "outputs": [],
   "source": [
    "def Silhouette1(lista,G):# para la primera particion, primer cluster\n",
    "    F=lista[0] #primera particion\n",
    "    b=[]\n",
    "    a=[]\n",
    "    S=[]\n",
    "    for i in F[0]: #F0 es primer cluster, i nodo de ese cluster\n",
    "        A=[]\n",
    "        for j in F[0]:\n",
    "            if i!=j:\n",
    "                A.append(nx.shortest_path_length(G, source=i, target=j, weight=None))\n",
    "        a.append(sum(A)/len(A))\n",
    "        B=[]\n",
    "        for k in F[1]: #F1 es el segundo cluster, k nodo\n",
    "            B.append(nx.shortest_path_length(G, source=i, target=k, weight=None))\n",
    "        b.append(sum(B)/len(B))\n",
    "    for i in range(len(a)):\n",
    "        m=max(a[i],b[i])\n",
    "        s=(b[i]-a[i])/m\n",
    "        S.append(s)\n",
    "    return S "
   ]
  },
  {
   "cell_type": "code",
   "execution_count": 16,
   "metadata": {},
   "outputs": [
    {
     "data": {
      "text/plain": [
       "[0.5132812499999999,\n",
       " 0.46417525773195867,\n",
       " 0.455188679245283,\n",
       " 0.42564102564102557,\n",
       " 0.41666666666666663,\n",
       " 0.4421875,\n",
       " 0.3134615384615385,\n",
       " 0.4261627906976744,\n",
       " 0.2953947368421053,\n",
       " 0.2608552631578948,\n",
       " 0.5634210526315789,\n",
       " 0.5976635514018692,\n",
       " 0.4210280373831775,\n",
       " 0.1313636363636364,\n",
       " 0.5132812499999999,\n",
       " 0.536046511627907,\n",
       " 0.49090909090909096,\n",
       " 0.53515625,\n",
       " 0.39563953488372083,\n",
       " 0.4473684210526316,\n",
       " 0.4383720930232558,\n",
       " 0.06375000000000008,\n",
       " 0.4203125,\n",
       " 0.5242187500000001,\n",
       " 0.5625,\n",
       " 0.5037109375,\n",
       " 0.3053846153846154,\n",
       " 0.5682242990654205,\n",
       " 0.45705128205128204,\n",
       " 0.47051282051282045,\n",
       " 0.43495762711864405,\n",
       " 0.454,\n",
       " 0.021590909090909015,\n",
       " 0.43495762711864405,\n",
       " 0.4505813953488372,\n",
       " 0.53515625,\n",
       " 0.5055232558139535,\n",
       " 0.5237113402061855,\n",
       " 0.42249999999999993,\n",
       " 0.46953125,\n",
       " 0.41121495327102797]"
      ]
     },
     "execution_count": 16,
     "metadata": {},
     "output_type": "execute_result"
    }
   ],
   "source": [
    "Silhouette1(a,G)"
   ]
  },
  {
   "cell_type": "code",
   "execution_count": 29,
   "metadata": {
    "collapsed": true
   },
   "outputs": [],
   "source": [
    "def Silhouette(lista,G): \n",
    "    S=[]\n",
    "    for l in range(len(lista)-1):  # me muevo en particiones \n",
    "        F=lista[l] # es la partición l-ésima\n",
    "        S_l=[] #lista de silhouette para la partición l\n",
    "        for c in range(len(F)):    # me muevo en cluster dentro de esa partición\n",
    "            b=[]\n",
    "            a=[]\n",
    "            S_c=[]  #lista de silhouette para el cluster c de la partición l\n",
    "            for i in F[c]: # me muevo dentro del cluster c, i nodo\n",
    "                A=[]\n",
    "                for j in F[c]:\n",
    "                    if i!=j:\n",
    "                        A.append(nx.shortest_path_length(G, source=i, target=j, weight=None))\n",
    "                if len(A)!=0:\n",
    "                    a.append(sum(A)/len(A))\n",
    "                b1=[]\n",
    "                for k in range(len(F)):\n",
    "                      if k!=c:\n",
    "                        B=[]\n",
    "                        for z in F[k]: # me muevo dentro del cluster k\n",
    "                            B.append(nx.shortest_path_length(G, source=i, target=z, weight=None))\n",
    "                        b1.append(sum(B)/len(B))\n",
    "                b.append(min(b1))\n",
    "            for i in range(len(a)):\n",
    "                m=max(a[i],b[i])\n",
    "                s=(b[i]-a[i])/m\n",
    "                S_c.append(s)\n",
    "            S_l.append(S_c)\n",
    "        S.append(S_l)\n",
    "    return S\n",
    "        "
   ]
  },
  {
   "cell_type": "code",
   "execution_count": 18,
   "metadata": {
    "collapsed": true
   },
   "outputs": [],
   "source": [
    "S=Silhouette(a,G)"
   ]
  },
  {
   "cell_type": "markdown",
   "metadata": {},
   "source": [
    "Silhouette promedio es con todos los nodos por igual. Podríamos ver el S promedio para cada cluster y ver que tan distintos (esperaríamos que sean parecidos si es una buena partición). Podríamos ver gráficos."
   ]
  },
  {
   "cell_type": "markdown",
   "metadata": {},
   "source": [
    "http://scikit-learn.org/stable/auto_examples/cluster/plot_kmeans_silhouette_analysis.html#sphx-glr-download-auto-examples-cluster-plot-kmeans-silhouette-analysis-py\n",
    "\n",
    "http://scikit-learn.org/stable/modules/generated/sklearn.metrics.silhouette_samples.html#sklearn.metrics.silhouette_samples\n",
    "\n",
    "https://python-louvain.readthedocs.io/en/latest/api.html#community.generate_dendrogram esto es de Louvain "
   ]
  },
  {
   "cell_type": "code",
   "execution_count": 30,
   "metadata": {},
   "outputs": [],
   "source": [
    "# Louvain\n",
    "partition = community.best_partition(G)\n"
   ]
  },
  {
   "cell_type": "code",
   "execution_count": 12,
   "metadata": {},
   "outputs": [
    {
     "data": {
      "text/plain": [
       "dict"
      ]
     },
     "execution_count": 12,
     "metadata": {},
     "output_type": "execute_result"
    }
   ],
   "source": [
    "type(partition)"
   ]
  },
  {
   "cell_type": "code",
   "execution_count": 14,
   "metadata": {},
   "outputs": [
    {
     "data": {
      "text/plain": [
       "0"
      ]
     },
     "execution_count": 14,
     "metadata": {},
     "output_type": "execute_result"
    }
   ],
   "source": [
    "partition[\"Five\"]"
   ]
  },
  {
   "cell_type": "code",
   "execution_count": 31,
   "metadata": {
    "collapsed": true
   },
   "outputs": [],
   "source": [
    "cluster=[0,1,2,3,4]\n",
    "A=[] #armamos la lista de la partición a partir de Louvain\n",
    "for i in cluster:\n",
    "    a=[]\n",
    "    for j in G.nodes():\n",
    "        if partition[j]==i:\n",
    "            a.append(j)\n",
    "    A.append(a)"
   ]
  },
  {
   "cell_type": "code",
   "execution_count": 32,
   "metadata": {},
   "outputs": [
    {
     "data": {
      "text/plain": [
       "0.5185317036509621"
      ]
     },
     "execution_count": 32,
     "metadata": {},
     "output_type": "execute_result"
    }
   ],
   "source": [
    "modularity(G,[cluster for cluster in A]) #Louvain modularidad"
   ]
  },
  {
   "cell_type": "code",
   "execution_count": 37,
   "metadata": {
    "collapsed": true
   },
   "outputs": [],
   "source": [
    "def Silhouette2(lista,G): \n",
    "    S_l=[] #lista de silhouette para la partición l\n",
    "    for c in range(len(lista)):    # me muevo en cluster dentro de esa partición\n",
    "        b=[]\n",
    "        a=[]\n",
    "        S_c=[]  #lista de silhouette para el cluster c de la partición l\n",
    "        for i in lista[c]: # me muevo dentro del cluster c, i nodo\n",
    "            A=[]\n",
    "            for j in lista[c]:\n",
    "                if i!=j:\n",
    "                    A.append(nx.shortest_path_length(G, source=i, target=j, weight=None))\n",
    "            if len(A)!=0:\n",
    "                a.append(sum(A)/len(A))\n",
    "            b1=[]\n",
    "            for k in range(len(lista)):\n",
    "                  if k!=c:\n",
    "                    B=[]\n",
    "                    for z in lista[k]: # me muevo dentro del cluster k\n",
    "                        B.append(nx.shortest_path_length(G, source=i, target=z, weight=None))\n",
    "                    b1.append(sum(B)/len(B))\n",
    "            b.append(min(b1))\n",
    "        for i in range(len(a)):\n",
    "            m=max(a[i],b[i])\n",
    "            s=(b[i]-a[i])/m\n",
    "            S_c.append(s)\n",
    "        S_l.append(S_c)\n",
    "    return S_l"
   ]
  },
  {
   "cell_type": "code",
   "execution_count": 34,
   "metadata": {},
   "outputs": [
    {
     "data": {
      "text/plain": [
       "5"
      ]
     },
     "execution_count": 34,
     "metadata": {},
     "output_type": "execute_result"
    }
   ],
   "source": [
    "len(A)"
   ]
  },
  {
   "cell_type": "code",
   "execution_count": 39,
   "metadata": {},
   "outputs": [
    {
     "data": {
      "text/plain": [
       "[[0.36956521739130427,\n",
       "  0.29411764705882354,\n",
       "  -0.16081871345029247,\n",
       "  0.1428571428571428,\n",
       "  0.06785714285714281,\n",
       "  0.41836734693877553,\n",
       "  0.17582417582417573,\n",
       "  0.3370535714285714,\n",
       "  0.23529411764705874,\n",
       "  0.3370535714285714,\n",
       "  0.3122923588039867,\n",
       "  0.30571428571428566,\n",
       "  0.4409937888198757,\n",
       "  0.2959183673469388,\n",
       "  0.1785714285714286],\n",
       " [0.3198380566801619,\n",
       "  -0.09000000000000002,\n",
       "  0.46853146853146854,\n",
       "  0.4301994301994302,\n",
       "  0.41700404858299595,\n",
       "  0.07692307692307697,\n",
       "  0.3142857142857143,\n",
       "  0.2934472934472935,\n",
       "  0.0769230769230769,\n",
       "  0.2934472934472935,\n",
       "  0.38461538461538464,\n",
       "  0.3846153846153846,\n",
       "  0.058823529411764705,\n",
       "  0.07692307692307697],\n",
       " [0.09411764705882351,\n",
       "  0.24913494809688577,\n",
       "  0.24509803921568618,\n",
       "  -0.033333333333333326,\n",
       "  0.24509803921568618,\n",
       "  0.11764705882352941,\n",
       "  0.25882352941176473,\n",
       "  0.03921568627450987,\n",
       "  0.29084967320261446,\n",
       "  -0.1985714285714286,\n",
       "  0.058823529411764705,\n",
       "  0.2030360531309299,\n",
       "  0.23529411764705888,\n",
       "  0.2279411764705882,\n",
       "  0.11764705882352956,\n",
       "  0.23017902813299232,\n",
       "  0.3217993079584775,\n",
       "  0.34453781512605053],\n",
       " [0.14285714285714288,\n",
       "  0.3333333333333334,\n",
       "  0.46666666666666673,\n",
       "  0.3939393939393939,\n",
       "  0.13333333333333328,\n",
       "  0.23529411764705874,\n",
       "  0.38888888888888895,\n",
       "  0.3548387096774194],\n",
       " [0.1111111111111111,\n",
       "  0.17500000000000007,\n",
       "  0.42857142857142855,\n",
       "  0.2,\n",
       "  0.0,\n",
       "  0.45999999999999996,\n",
       "  0.375]]"
      ]
     },
     "execution_count": 39,
     "metadata": {},
     "output_type": "execute_result"
    }
   ],
   "source": [
    "Silhouette2(A,G)"
   ]
  },
  {
   "cell_type": "code",
   "execution_count": null,
   "metadata": {
    "collapsed": true
   },
   "outputs": [],
   "source": []
  }
 ],
 "metadata": {
  "kernelspec": {
   "display_name": "Python 3",
   "language": "python",
   "name": "python3"
  },
  "language_info": {
   "codemirror_mode": {
    "name": "ipython",
    "version": 3
   },
   "file_extension": ".py",
   "mimetype": "text/x-python",
   "name": "python",
   "nbconvert_exporter": "python",
   "pygments_lexer": "ipython3",
   "version": "3.5.2"
  }
 },
 "nbformat": 4,
 "nbformat_minor": 2
}
