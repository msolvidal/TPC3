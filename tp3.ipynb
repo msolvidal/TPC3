{
 "cells": [
  {
   "cell_type": "markdown",
   "metadata": {},
   "source": [
    "# Trabajo Computacional 3"
   ]
  },
  {
   "cell_type": "code",
   "execution_count": 50,
   "metadata": {
    "collapsed": true
   },
   "outputs": [],
   "source": [
    "import numpy as np\n",
    "import networkx as nx\n",
    "import matplotlib.pyplot as plt\n",
    "import random\n",
    "from __future__ import print_function\n",
    "import community\n",
    "import os\n",
    "import numpy as np\n",
    "import rpy2.robjects as robjects"
   ]
  },
  {
   "cell_type": "code",
   "execution_count": 3,
   "metadata": {
    "collapsed": true
   },
   "outputs": [],
   "source": [
    "def ldata(archive):\n",
    "    f=open(archive)\n",
    "    data=[]\n",
    "    for line in f:\n",
    "        line=line.strip()\n",
    "        col=line.split()\n",
    "        data.append(col)\n",
    "    return data\n",
    "\n",
    "G=nx.read_gml(\"dolphins.gml\")\n",
    "genero=ldata(\"dolphinsGender.txt\")"
   ]
  },
  {
   "cell_type": "code",
   "execution_count": 25,
   "metadata": {},
   "outputs": [
    {
     "data": {
      "text/plain": [
       "generator"
      ]
     },
     "execution_count": 25,
     "metadata": {},
     "output_type": "execute_result"
    }
   ],
   "source": [
    "#edge-betweenness\n",
    "com = nx.algorithms.community.centrality.girvan_newman(G)\n",
    "a=[nodos for nodos in com]\n",
    "type(com)"
   ]
  },
  {
   "cell_type": "code",
   "execution_count": 4,
   "metadata": {
    "collapsed": true
   },
   "outputs": [],
   "source": [
    "Cluster=[]\n",
    "b=0\n",
    "Color=[\"r\",\"g\",\"b\",\"y\",\"k\"]\n",
    "for c in a[3]:\n",
    "    for n in a[3][b]:\n",
    "        Cluster.append([n,Color[b]])\n",
    "        \n",
    "    b+=1\n"
   ]
  },
  {
   "cell_type": "code",
   "execution_count": 7,
   "metadata": {},
   "outputs": [
    {
     "data": {
      "text/plain": [
       "[['SN63', 'r'],\n",
       " ['Thumper', 'r'],\n",
       " ['Whitetip', 'r'],\n",
       " ['TR88', 'r'],\n",
       " ['CCL', 'r'],\n",
       " ['Haecksel', 'r'],\n",
       " ['Zap', 'r'],\n",
       " ['MN60', 'r'],\n",
       " ['TR99', 'r'],\n",
       " ['Patchback', 'r'],\n",
       " ['Vau', 'r'],\n",
       " ['SN100', 'r'],\n",
       " ['Hook', 'r'],\n",
       " ['Grin', 'r'],\n",
       " ['Jonah', 'r'],\n",
       " ['Kringel', 'r'],\n",
       " ['TSN103', 'r'],\n",
       " ['MN105', 'r'],\n",
       " ['Topless', 'r'],\n",
       " ['SMN5', 'r'],\n",
       " ['SN9', 'r'],\n",
       " ['MN83', 'r'],\n",
       " ['TR120', 'r'],\n",
       " ['Five', 'r'],\n",
       " ['SN4', 'r'],\n",
       " ['Cross', 'r'],\n",
       " ['Stripes', 'r'],\n",
       " ['Scabs', 'r'],\n",
       " ['Trigger', 'r'],\n",
       " ['Double', 'r'],\n",
       " ['Shmuddel', 'r'],\n",
       " ['Fork', 'r'],\n",
       " ['Jet', 'g'],\n",
       " ['Beescratch', 'g'],\n",
       " ['Feather', 'g'],\n",
       " ['TR82', 'g'],\n",
       " ['DN63', 'g'],\n",
       " ['Notch', 'g'],\n",
       " ['Number1', 'g'],\n",
       " ['Knit', 'g'],\n",
       " ['Quasi', 'g'],\n",
       " ['Wave', 'g'],\n",
       " ['Web', 'g'],\n",
       " ['MN23', 'g'],\n",
       " ['SN89', 'g'],\n",
       " ['Upbang', 'g'],\n",
       " ['Ripplefluke', 'g'],\n",
       " ['DN16', 'g'],\n",
       " ['Gallatin', 'g'],\n",
       " ['Zig', 'g'],\n",
       " ['DN21', 'g'],\n",
       " ['Mus', 'g'],\n",
       " ['SN90', 'g'],\n",
       " ['Fish', 'b'],\n",
       " ['TR77', 'b'],\n",
       " ['PL', 'b'],\n",
       " ['SN96', 'b'],\n",
       " ['Bumper', 'b'],\n",
       " ['Beak', 'b'],\n",
       " ['Oscar', 'b'],\n",
       " ['Zipfel', 'y'],\n",
       " ['TSN83', 'y']]"
      ]
     },
     "execution_count": 7,
     "metadata": {},
     "output_type": "execute_result"
    }
   ],
   "source": [
    "Cluster2=[]\n",
    "b=0\n",
    "Color=[\"r\",\"g\",\"b\",\"y\",\"k\"]\n",
    "for c in a[2]:\n",
    "    for n in a[2][b]:\n",
    "        Cluster2.append([n,Color[b]])\n",
    "        \n",
    "    b+=1\n",
    "Cluster2"
   ]
  },
  {
   "cell_type": "code",
   "execution_count": 8,
   "metadata": {
    "collapsed": true
   },
   "outputs": [],
   "source": [
    "F=[]                    ##F va a ser el nuevo vector de nodo-genero pero ordenando los nodos de la misma manera que lo hace nx\n",
    "for n in G.nodes():\n",
    "    for k in Cluster:\n",
    "        if k[0]==n:\n",
    "            F.append([k[0],k[1]])"
   ]
  },
  {
   "cell_type": "code",
   "execution_count": 9,
   "metadata": {},
   "outputs": [
    {
     "data": {
      "text/plain": [
       "[['SN89', 'b'],\n",
       " ['Hook', 'r'],\n",
       " ['Thumper', 'r'],\n",
       " ['Grin', 'r'],\n",
       " ['Bumper', 'y'],\n",
       " ['DN16', 'b'],\n",
       " ['Zig', 'b'],\n",
       " ['DN21', 'b'],\n",
       " ['SN90', 'b'],\n",
       " ['TR88', 'r'],\n",
       " ['CCL', 'r'],\n",
       " ['DN63', 'b'],\n",
       " ['Knit', 'b'],\n",
       " ['Haecksel', 'g'],\n",
       " ['Whitetip', 'r'],\n",
       " ['Number1', 'b'],\n",
       " ['TR99', 'r'],\n",
       " ['Vau', 'g'],\n",
       " ['Five', 'g'],\n",
       " ['SN100', 'r'],\n",
       " ['Ripplefluke', 'b'],\n",
       " ['SN96', 'y'],\n",
       " ['SN9', 'r'],\n",
       " ['Stripes', 'r'],\n",
       " ['Jet', 'b'],\n",
       " ['Feather', 'b'],\n",
       " ['Fish', 'y'],\n",
       " ['Jonah', 'g'],\n",
       " ['Notch', 'b'],\n",
       " ['PL', 'y'],\n",
       " ['Quasi', 'b'],\n",
       " ['Kringel', 'r'],\n",
       " ['TSN103', 'r'],\n",
       " ['Wave', 'b'],\n",
       " ['Zap', 'r'],\n",
       " ['Oscar', 'y'],\n",
       " ['MN105', 'g'],\n",
       " ['Topless', 'g'],\n",
       " ['Gallatin', 'b'],\n",
       " ['Mus', 'b'],\n",
       " ['TR82', 'b'],\n",
       " ['TSN83', 'k'],\n",
       " ['MN83', 'g'],\n",
       " ['Beescratch', 'b'],\n",
       " ['TR120', 'r'],\n",
       " ['TR77', 'y'],\n",
       " ['Cross', 'g'],\n",
       " ['SN4', 'r'],\n",
       " ['Double', 'r'],\n",
       " ['MN23', 'b'],\n",
       " ['Zipfel', 'k'],\n",
       " ['Shmuddel', 'r'],\n",
       " ['Beak', 'y'],\n",
       " ['Patchback', 'g'],\n",
       " ['MN60', 'g'],\n",
       " ['Upbang', 'b'],\n",
       " ['Scabs', 'r'],\n",
       " ['Trigger', 'g'],\n",
       " ['SN63', 'r'],\n",
       " ['SMN5', 'g'],\n",
       " ['Fork', 'r'],\n",
       " ['Web', 'b']]"
      ]
     },
     "execution_count": 9,
     "metadata": {},
     "output_type": "execute_result"
    }
   ],
   "source": [
    "F"
   ]
  },
  {
   "cell_type": "code",
   "execution_count": 31,
   "metadata": {},
   "outputs": [
    {
     "ename": "TypeError",
     "evalue": "draw_networkx_nodes() missing 1 required positional argument: 'pos'",
     "output_type": "error",
     "traceback": [
      "\u001b[0;31m---------------------------------------------------------------------------\u001b[0m",
      "\u001b[0;31mTypeError\u001b[0m                                 Traceback (most recent call last)",
      "\u001b[0;32m<ipython-input-31-57bdbdd6412f>\u001b[0m in \u001b[0;36m<module>\u001b[0;34m()\u001b[0m\n\u001b[1;32m      6\u001b[0m                        \u001b[0mnode_color\u001b[0m\u001b[0;34m=\u001b[0m\u001b[0mlist\u001b[0m\u001b[0;34m(\u001b[0m\u001b[0mdict\u001b[0m\u001b[0;34m(\u001b[0m\u001b[0mG\u001b[0m\u001b[0;34m.\u001b[0m\u001b[0mdegree\u001b[0m\u001b[0;34m)\u001b[0m\u001b[0;34m.\u001b[0m\u001b[0mvalues\u001b[0m\u001b[0;34m(\u001b[0m\u001b[0;34m)\u001b[0m\u001b[0;34m)\u001b[0m\u001b[0;34m,\u001b[0m\u001b[0;34m\u001b[0m\u001b[0m\n\u001b[1;32m      7\u001b[0m                        \u001b[0mnode_size\u001b[0m\u001b[0;34m=\u001b[0m\u001b[0;36m100\u001b[0m\u001b[0;34m,\u001b[0m\u001b[0;34m\u001b[0m\u001b[0m\n\u001b[0;32m----> 8\u001b[0;31m                        alpha=0.8)\n\u001b[0m\u001b[1;32m      9\u001b[0m \u001b[0mplt\u001b[0m\u001b[0;34m.\u001b[0m\u001b[0mshow\u001b[0m\u001b[0;34m(\u001b[0m\u001b[0;34m)\u001b[0m\u001b[0;34m\u001b[0m\u001b[0m\n",
      "\u001b[0;31mTypeError\u001b[0m: draw_networkx_nodes() missing 1 required positional argument: 'pos'"
     ]
    }
   ],
   "source": [
    "#nx.draw(G,with_labels=False,node_color=[c[1] for c in F])\n",
    "\n",
    "\n",
    "nx.draw_networkx_nodes(G,\n",
    "                       cmap=plt.get_cmap('plasma'),\n",
    "                       node_color=list(dict(G.degree).values()),\n",
    "                       node_size=100,\n",
    "                       alpha=0.8)\n",
    "plt.show()"
   ]
  },
  {
   "cell_type": "code",
   "execution_count": 49,
   "metadata": {
    "collapsed": true
   },
   "outputs": [],
   "source": [
    "import networkx as nx\n",
    "import time\n",
    "\n",
    "def calculate_infomap(np_adj_list, method=\"infomap\"):\n",
    "    g = igraph.Graph.Weighted_Adjacency(np_adj_list.tolist(),mode=igraph.ADJ_UPPER)\n",
    "   \n",
    "    t0=time.time()\n",
    "    if method==\"infomap\":\n",
    "        labels = g.community_infomap(edge_weights=\"weight\").membership\n",
    "#    labels = g.community_label_propagation(weights=\"weight\").membership\n",
    "    if method==\"fastgreedy\":\n",
    "        labels = g.community_fastgreedy(edge_weights=\"weight\").membership\n",
    "   \n",
    "    print(\"Duración: {}s\".format(time.time()-t0))\n",
    "           \n",
    "    return labels\n",
    "\n",
    "from __future__ import division\n",
    "\n",
    "from functools import wraps\n",
    "from itertools import product\n",
    "\n",
    "import networkx as nx\n",
    "from networkx import NetworkXError\n",
    "from networkx.utils import not_implemented_for\n",
    "from networkx.algorithms.community.community_utils import is_partition\n",
    "\n",
    "__all__ = ['coverage', 'modularity', 'performance']\n",
    "\n",
    "\n",
    "class NotAPartition(NetworkXError):\n",
    "    \"\"\"Raised if a given collection is not a partition.\n",
    "\n",
    "    \"\"\"\n",
    "\n",
    "    def __init__(self, G, collection):\n",
    "        msg = '{} is not a valid partition of the graph {}'\n",
    "        msg = msg.format(G, collection)\n",
    "        super(NotAPartition, self).__init__(msg)\n",
    "\n",
    "\n",
    "def modularity(G, communities, weight='weight'):\n",
    "    r\"\"\"Returns the modularity of the given partition of the graph.\n",
    "\n",
    "    Modularity is defined in [1]_ as\n",
    "\n",
    "    .. math::\n",
    "\n",
    "        Q = \\frac{1}{2m} \\sum_{ij} \\left( A_{ij} - \\frac{k_ik_j}{2m}\\right)\n",
    "            \\delta(c_i,c_j)\n",
    "\n",
    "    where $m$ is the number of edges, $A$ is the adjacency matrix of\n",
    "    `G`, $k_i$ is the degree of $i$ and $\\delta(c_i, c_j)$\n",
    "    is 1 if $i$ and $j$ are in the same community and 0 otherwise.\n",
    "\n",
    "    Parameters\n",
    "    ----------\n",
    "    G : NetworkX Graph\n",
    "\n",
    "    communities : list\n",
    "        List of sets of nodes of `G` representing a partition of the\n",
    "        nodes.\n",
    "\n",
    "    Returns\n",
    "    -------\n",
    "    Q : float\n",
    "        The modularity of the paritition.\n",
    "\n",
    "    Raises\n",
    "    ------\n",
    "    NotAPartition\n",
    "        If `communities` is not a partition of the nodes of `G`.\n",
    "\n",
    "    Examples\n",
    "    --------\n",
    "    >>> G = nx.barbell_graph(3, 0)\n",
    "    >>> nx.algorithms.community.modularity(G, [{0, 1, 2}, {3, 4, 5}])\n",
    "    0.35714285714285704\n",
    "\n",
    "    References\n",
    "    ----------\n",
    "    .. [1] M. E. J. Newman *Networks: An Introduction*, page 224.\n",
    "       Oxford University Press, 2011.\n",
    "\n",
    "    \"\"\"\n",
    "    if not is_partition(G, communities):\n",
    "        raise NotAPartition(G, communities)\n",
    "\n",
    "    multigraph = G.is_multigraph()\n",
    "    directed = G.is_directed()\n",
    "    m = G.size(weight=weight)\n",
    "    if directed:\n",
    "        out_degree = dict(G.out_degree(weight=weight))\n",
    "        in_degree = dict(G.in_degree(weight=weight))\n",
    "        norm = 1 / m\n",
    "    else:\n",
    "        out_degree = dict(G.degree(weight=weight))\n",
    "        in_degree = out_degree\n",
    "        norm = 1 / (2 * m)\n",
    "\n",
    "    def val(u, v):\n",
    "        try:\n",
    "            if multigraph:\n",
    "                w = sum(d.get(weight, 1) for k, d in G[u][v].items())\n",
    "            else:\n",
    "                w = G[u][v].get(weight, 1)\n",
    "        except KeyError:\n",
    "            w = 0\n",
    "        # Double count self-loops if the graph is undirected.\n",
    "        if u == v and not directed:\n",
    "            w *= 2\n",
    "        return w - in_degree[u] * out_degree[v] * norm\n",
    "\n",
    "    Q = sum(val(u, v) for c in communities for u, v in product(c, repeat=2))\n",
    "    return Q * norm\n",
    "\n"
   ]
  },
  {
   "cell_type": "code",
   "execution_count": 27,
   "metadata": {
    "collapsed": true
   },
   "outputs": [],
   "source": [
    "modular=[]\n",
    "for i in range(len(a)):\n",
    "    modular.append([modularity(G,[cluster for cluster in a[i]]),i])"
   ]
  },
  {
   "cell_type": "code",
   "execution_count": 13,
   "metadata": {
    "scrolled": true
   },
   "outputs": [
    {
     "data": {
      "text/plain": [
       "[[0.5193821446936419, 3],\n",
       " [0.5175625964162793, 5],\n",
       " [0.5139234998615546, 4],\n",
       " [0.4938095803172336, 7],\n",
       " [0.4907242593251836, 6],\n",
       " [0.48955737510383235, 8],\n",
       " [0.48528539219176414, 9],\n",
       " [0.4804596337170202, 10],\n",
       " [0.47541632055693955, 11],\n",
       " [0.47035322969819204, 12],\n",
       " [0.4660021359914558, 13],\n",
       " [0.460919267434041, 14],\n",
       " [0.45807127882599474, 2],\n",
       " [0.45557928879395554, 15],\n",
       " [0.44930975831652187, 16],\n",
       " [0.4390649104070245, 17],\n",
       " [0.42707962501483265, 18],\n",
       " [0.41477789644396945, 19],\n",
       " [0.4055812665638226, 20],\n",
       " [0.3948221984889843, 21],\n",
       " [0.38149202958743694, 1],\n",
       " [0.3812942526007679, 22],\n",
       " [0.37870337407539256, 0],\n",
       " [0.3720382896246198, 23],\n",
       " [0.36179344171512245, 24],\n",
       " [0.34387484672283575, 25],\n",
       " [0.3283295755705869, 26],\n",
       " [0.3178473952770859, 27],\n",
       " [0.30576322139155915, 28],\n",
       " [0.2950041533167204, 29],\n",
       " [0.2889126221272896, 30],\n",
       " [0.2686009255962978, 31],\n",
       " [0.2544796487480719, 32],\n",
       " [0.2428503619318858, 33],\n",
       " [0.22694909220363144, 34],\n",
       " [0.214410031248764, 35],\n",
       " [0.19435544480044284, 36],\n",
       " [0.18142082987223596, 37],\n",
       " [0.1643328982239625, 38],\n",
       " [0.15240694592777163, 39],\n",
       " [0.14619674854633893, 40],\n",
       " [0.13996677346623923, 41],\n",
       " [0.12428305842332162, 42],\n",
       " [0.10351647482298944, 43],\n",
       " [0.09772160911356349, 44],\n",
       " [0.08383766464934145, 45],\n",
       " [0.07539258731853965, 46],\n",
       " [0.07034927415845896, 47],\n",
       " [0.05919465211028046, 48],\n",
       " [0.04788180847276612, 49],\n",
       " [0.039001621771290705, 50],\n",
       " [0.03310786756852973, 51],\n",
       " [0.026937225584431002, 52],\n",
       " [0.016731933072267714, 53],\n",
       " [0.011510620624184181, 54],\n",
       " [0.005814643408093041, 55],\n",
       " [-0.000177999288002849, 56],\n",
       " [-0.005755310312092087, 57],\n",
       " [-0.011866619200189863, 58],\n",
       " [-0.016771488469601678, 59],\n",
       " [-0.021399469957675724, 60]]"
      ]
     },
     "execution_count": 13,
     "metadata": {},
     "output_type": "execute_result"
    }
   ],
   "source": [
    "sorted(modular,reverse=True)"
   ]
  },
  {
   "cell_type": "code",
   "execution_count": 4,
   "metadata": {
    "collapsed": true
   },
   "outputs": [],
   "source": [
    "def Silhouette1(lista,G):# para la primera particion, primer cluster\n",
    "    F=lista[0] #primera particion\n",
    "    b=[]\n",
    "    a=[]\n",
    "    S=[]\n",
    "    for i in F[0]: #F0 es primer cluster, i nodo de ese cluster\n",
    "        A=[]\n",
    "        for j in F[0]:\n",
    "            if i!=j:\n",
    "                A.append(nx.shortest_path_length(G, source=i, target=j, weight=None))\n",
    "        a.append(sum(A)/len(A))\n",
    "        B=[]\n",
    "        for k in F[1]: #F1 es el segundo cluster, k nodo\n",
    "            B.append(nx.shortest_path_length(G, source=i, target=k, weight=None))\n",
    "        b.append(sum(B)/len(B))\n",
    "    for i in range(len(a)):\n",
    "        m=max(a[i],b[i])\n",
    "        s=(b[i]-a[i])/m\n",
    "        S.append(s)\n",
    "    return S "
   ]
  },
  {
   "cell_type": "code",
   "execution_count": 16,
   "metadata": {},
   "outputs": [
    {
     "data": {
      "text/plain": [
       "[0.5132812499999999,\n",
       " 0.46417525773195867,\n",
       " 0.455188679245283,\n",
       " 0.42564102564102557,\n",
       " 0.41666666666666663,\n",
       " 0.4421875,\n",
       " 0.3134615384615385,\n",
       " 0.4261627906976744,\n",
       " 0.2953947368421053,\n",
       " 0.2608552631578948,\n",
       " 0.5634210526315789,\n",
       " 0.5976635514018692,\n",
       " 0.4210280373831775,\n",
       " 0.1313636363636364,\n",
       " 0.5132812499999999,\n",
       " 0.536046511627907,\n",
       " 0.49090909090909096,\n",
       " 0.53515625,\n",
       " 0.39563953488372083,\n",
       " 0.4473684210526316,\n",
       " 0.4383720930232558,\n",
       " 0.06375000000000008,\n",
       " 0.4203125,\n",
       " 0.5242187500000001,\n",
       " 0.5625,\n",
       " 0.5037109375,\n",
       " 0.3053846153846154,\n",
       " 0.5682242990654205,\n",
       " 0.45705128205128204,\n",
       " 0.47051282051282045,\n",
       " 0.43495762711864405,\n",
       " 0.454,\n",
       " 0.021590909090909015,\n",
       " 0.43495762711864405,\n",
       " 0.4505813953488372,\n",
       " 0.53515625,\n",
       " 0.5055232558139535,\n",
       " 0.5237113402061855,\n",
       " 0.42249999999999993,\n",
       " 0.46953125,\n",
       " 0.41121495327102797]"
      ]
     },
     "execution_count": 16,
     "metadata": {},
     "output_type": "execute_result"
    }
   ],
   "source": [
    "Silhouette1(a,G)"
   ]
  },
  {
   "cell_type": "code",
   "execution_count": 5,
   "metadata": {
    "collapsed": true
   },
   "outputs": [],
   "source": [
    "def Silhouette(lista,G): \n",
    "    S=[]\n",
    "    for l in range(len(lista)-1):  # me muevo en particiones \n",
    "        F=lista[l] # es la partición l-ésima\n",
    "        S_l=[] #lista de silhouette para la partición l\n",
    "        for c in range(len(F)):    # me muevo en cluster dentro de esa partición\n",
    "            b=[]\n",
    "            a=[]\n",
    "            S_c=[]  #lista de silhouette para el cluster c de la partición l\n",
    "            for i in F[c]: # me muevo dentro del cluster c, i nodo\n",
    "                A=[]\n",
    "                for j in F[c]:\n",
    "                    if i!=j:\n",
    "                        A.append(nx.shortest_path_length(G, source=i, target=j, weight=None))\n",
    "                if len(A)!=0:\n",
    "                    a.append(sum(A)/len(A))\n",
    "                b1=[]\n",
    "                for k in range(len(F)):\n",
    "                      if k!=c:\n",
    "                        B=[]\n",
    "                        for z in F[k]: # me muevo dentro del cluster k\n",
    "                            B.append(nx.shortest_path_length(G, source=i, target=z, weight=None))\n",
    "                        b1.append(sum(B)/len(B))\n",
    "                b.append(min(b1))\n",
    "            for i in range(len(a)):\n",
    "                m=max(a[i],b[i])\n",
    "                s=(b[i]-a[i])/m\n",
    "                S_c.append(s)\n",
    "            S_l.append(S_c)\n",
    "        S.append(S_l)\n",
    "    return S\n",
    "        "
   ]
  },
  {
   "cell_type": "code",
   "execution_count": 18,
   "metadata": {
    "collapsed": true
   },
   "outputs": [],
   "source": [
    "S=Silhouette(a,G)"
   ]
  },
  {
   "cell_type": "markdown",
   "metadata": {},
   "source": [
    "Silhouette promedio es con todos los nodos por igual. Podríamos ver el S promedio para cada cluster y ver que tan distintos (esperaríamos que sean parecidos si es una buena partición). Podríamos ver gráficos."
   ]
  },
  {
   "cell_type": "markdown",
   "metadata": {},
   "source": [
    "http://scikit-learn.org/stable/auto_examples/cluster/plot_kmeans_silhouette_analysis.html#sphx-glr-download-auto-examples-cluster-plot-kmeans-silhouette-analysis-py\n",
    "\n",
    "http://scikit-learn.org/stable/modules/generated/sklearn.metrics.silhouette_samples.html#sklearn.metrics.silhouette_samples\n",
    "\n",
    "https://python-louvain.readthedocs.io/en/latest/api.html#community.generate_dendrogram esto es de Louvain "
   ]
  },
  {
   "cell_type": "code",
   "execution_count": 51,
   "metadata": {},
   "outputs": [],
   "source": [
    "# Louvain\n",
    "partition = community.best_partition(G)\n"
   ]
  },
  {
   "cell_type": "code",
   "execution_count": 84,
   "metadata": {},
   "outputs": [
    {
     "data": {
      "text/plain": [
       "{0, 1, 2, 3, 4, 5}"
      ]
     },
     "execution_count": 84,
     "metadata": {},
     "output_type": "execute_result"
    }
   ],
   "source": [
    "o=[]\n",
    "for j in G.nodes():\n",
    "    o.append(partition[j])\n",
    "set(o)"
   ]
  },
  {
   "cell_type": "code",
   "execution_count": 85,
   "metadata": {
    "collapsed": true
   },
   "outputs": [],
   "source": [
    "cluster=[0,1,2,3,4,5]\n",
    "A=[] #armamos la lista de la partición a partir de Louvain\n",
    "for i in cluster:\n",
    "    a=[]\n",
    "    for j in G.nodes():\n",
    "        if partition[j]==i:\n",
    "            a.append(j)\n",
    "    A.append(a)"
   ]
  },
  {
   "cell_type": "code",
   "execution_count": 86,
   "metadata": {},
   "outputs": [
    {
     "data": {
      "text/plain": [
       "62"
      ]
     },
     "execution_count": 86,
     "metadata": {},
     "output_type": "execute_result"
    }
   ],
   "source": [
    "k=0\n",
    "for i in A:\n",
    "    for j in i:\n",
    "        k+=1\n",
    "k"
   ]
  },
  {
   "cell_type": "code",
   "execution_count": 87,
   "metadata": {},
   "outputs": [
    {
     "data": {
      "text/plain": [
       "0.5195799216803125"
      ]
     },
     "execution_count": 87,
     "metadata": {},
     "output_type": "execute_result"
    }
   ],
   "source": [
    "modularity(G,[cluster for cluster in A]) #Louvain modularidad"
   ]
  },
  {
   "cell_type": "code",
   "execution_count": 24,
   "metadata": {
    "collapsed": true
   },
   "outputs": [],
   "source": [
    "def Silhouette2(lista,G): \n",
    "    S_l=[] #lista de silhouette para la partición l\n",
    "    for c in range(len(lista)):    # me muevo en cluster dentro de esa partición\n",
    "        b=[]\n",
    "        a=[]\n",
    "        S_c=[]  #lista de silhouette para el cluster c de la partición l\n",
    "        for i in lista[c]: # me muevo dentro del cluster c, i nodo\n",
    "            A=[]\n",
    "            for j in lista[c]:\n",
    "                if i!=j:\n",
    "                    A.append(nx.shortest_path_length(G, source=i, target=j, weight=None))\n",
    "            if len(A)!=0:\n",
    "                a.append(sum(A)/len(A))\n",
    "            b1=[]\n",
    "            for k in range(len(lista)):\n",
    "                  if k!=c:\n",
    "                    B=[]\n",
    "                    for z in lista[k]: # me muevo dentro del cluster k\n",
    "                        B.append(nx.shortest_path_length(G, source=i, target=z, weight=None))\n",
    "                    b1.append(sum(B)/len(B))\n",
    "            b.append(min(b1))\n",
    "        for i in range(len(a)):\n",
    "            m=max(a[i],b[i])\n",
    "            s=(b[i]-a[i])/m\n",
    "            S_c.append(s)\n",
    "        S_l.append(sorted(S_c))\n",
    "    return S_l"
   ]
  },
  {
   "cell_type": "code",
   "execution_count": 34,
   "metadata": {},
   "outputs": [
    {
     "data": {
      "text/plain": [
       "5"
      ]
     },
     "execution_count": 34,
     "metadata": {},
     "output_type": "execute_result"
    }
   ],
   "source": [
    "len(A)"
   ]
  },
  {
   "cell_type": "code",
   "execution_count": null,
   "metadata": {
    "collapsed": true
   },
   "outputs": [],
   "source": []
  },
  {
   "cell_type": "markdown",
   "metadata": {
    "collapsed": true
   },
   "source": [
    "Comparar comunidades:\n",
    "    Overlap?\n",
    "    Testear con la comunidad M-F?\n",
    "    \n",
    "Modularidad con recableo"
   ]
  },
  {
   "cell_type": "code",
   "execution_count": 44,
   "metadata": {
    "collapsed": true
   },
   "outputs": [],
   "source": [
    "# Fastgreedy\n",
    "\n",
    "comus = nx.algorithms.community.greedy_modularity_communities(G, weight=None)\n"
   ]
  },
  {
   "cell_type": "code",
   "execution_count": 45,
   "metadata": {
    "collapsed": true
   },
   "outputs": [],
   "source": [
    "B=[] #Partición obtenida con fastgreedy\n",
    "for j in comus:\n",
    "    a=[]\n",
    "    for i in j:\n",
    "        a.append(i)\n",
    "    B.append(a)"
   ]
  },
  {
   "cell_type": "code",
   "execution_count": 16,
   "metadata": {},
   "outputs": [
    {
     "data": {
      "text/plain": [
       "0.49549068470392765"
      ]
     },
     "execution_count": 16,
     "metadata": {},
     "output_type": "execute_result"
    }
   ],
   "source": [
    "modularity(G,[cluster for cluster in B]) #Fastgreedy modularidad"
   ]
  },
  {
   "cell_type": "code",
   "execution_count": 59,
   "metadata": {
    "collapsed": true
   },
   "outputs": [],
   "source": [
    "SilF=Silhouette2(B,G)\n",
    "SilouF=[]\n",
    "SCF=[]\n",
    "Color=[\"r\",\"g\",\"b\",\"y\"]\n",
    "b=0\n",
    "for i in SilF:\n",
    "    for j in i:\n",
    "        SCF.append(Color[b])\n",
    "        SilouF.append(j)\n",
    "    b+=1"
   ]
  },
  {
   "cell_type": "code",
   "execution_count": 60,
   "metadata": {},
   "outputs": [
    {
     "data": {
      "image/png": "[encoded data removed]",
      "text/plain": [
       "<matplotlib.figure.Figure at 0x7fa9e6538c88>"
      ]
     },
     "metadata": {},
     "output_type": "display_data"
    }
   ],
   "source": [
    "# Graficando siloutte Fastgreedy\n",
    "plt.rcdefaults()\n",
    "fig, ax = plt.subplots()\n",
    "\n",
    "\n",
    "y_pos = np.arange(1,63)\n",
    "sil= SilouF\n",
    "ax.barh(y_pos, sil, align='center',\n",
    "        color=SCF)\n",
    "\n",
    "plt.axvline(sum(sil)/len(sil),c=\"k\")\n",
    "plt.show()"
   ]
  },
  {
   "cell_type": "code",
   "execution_count": 93,
   "metadata": {
    "collapsed": true
   },
   "outputs": [],
   "source": [
    "\n",
    "SilL=Silhouette2(A,G)\n",
    "SilouL=[]\n",
    "SCL=[]\n",
    "Color=[\"r\",\"g\",\"b\",\"y\",\"m\",\"c\"]\n",
    "b=0\n",
    "for i in SilL:\n",
    "    for j in i:\n",
    "        SCL.append(Color[b])\n",
    "        SilouL.append(j)\n",
    "    b+=1"
   ]
  },
  {
   "cell_type": "code",
   "execution_count": 76,
   "metadata": {},
   "outputs": [
    {
     "data": {
      "text/plain": [
       "55"
      ]
     },
     "execution_count": 76,
     "metadata": {},
     "output_type": "execute_result"
    }
   ],
   "source": [
    "k=0\n",
    "for j in SilL:\n",
    "    for i in j:\n",
    "        k+=1\n",
    "k"
   ]
  },
  {
   "cell_type": "code",
   "execution_count": 94,
   "metadata": {},
   "outputs": [
    {
     "data": {
      "image/png": "[encoded data removed]",
      "text/plain": [
       "<matplotlib.figure.Figure at 0x7fa9e67e6d68>"
      ]
     },
     "metadata": {},
     "output_type": "display_data"
    }
   ],
   "source": [
    "# Graficando siloutte Louvain\n",
    "plt.rcdefaults()\n",
    "fig, ax = plt.subplots()\n",
    "\n",
    "\n",
    "y_pos = np.arange(1,63)\n",
    "sil= SilouL\n",
    "ax.barh(y_pos, sil, align='center',\n",
    "        color=SCL)\n",
    "\n",
    "plt.axvline(sum(sil)/len(sil),c=\"k\")\n",
    "plt.show()"
   ]
  },
  {
   "cell_type": "code",
   "execution_count": 5,
   "metadata": {
    "collapsed": true
   },
   "outputs": [],
   "source": [
    "def community(nxG, algorithm, fig_name = \"G\"):\n",
    "    \"\"\"\n",
    "    In:\n",
    "        nxG: grafo de networkx.\n",
    "        algorithm: string, entre las siguientes opciones: \n",
    "            fast_greedy\n",
    "            edge_betweenness\n",
    "            louvain\n",
    "            infomap\n",
    "        fig_name: nombre de la figura que se genera al clsuterizar. Le agrega automaticamente el nombre del algoritmo usado y el nombre del grafo si lo tuviere\n",
    "    Out:\n",
    "        labels: numpy array con la pertenencia de cada nodo al cluster.\n",
    "    \n",
    "    \"\"\"\n",
    "    gml_file_name = \"G.gml\"\n",
    "    fig_name += \"_\"+nxG.name+\"_\"+algorithm+\".svg\"\n",
    "    nx.write_gml(nxG, gml_file_name)\n",
    "    \n",
    "    igG = robjects.r('''\n",
    "        f <- function(file, algorithm, fig_name){\n",
    "            require(\"igraph\")     \n",
    "            \n",
    "            G <- read.graph(file, \"gml\")\n",
    "            #format = c(\"edgelist\", \"pajek\", \"ncol\", \"lgl\", \"graphml\",\"dimacs\", \"graphdb\", \"gml\", \"dl\"), ...)\n",
    "            \n",
    "            if(algorithm == \"fast_greedy\"){\n",
    "                c <- fastgreedy.community(G)\n",
    "                #c <- cluster_fast_greedy(G, merges = TRUE, modularity = TRUE, membership = TRUE)\n",
    "            }\n",
    "            \n",
    "            if(algorithm == \"edge_betweenness\"){\n",
    "                c <- edge.betweenness.community(G)\n",
    "                #c <- cluster_edge_betweenness(G,directed = FALSE,edge.betweenness = TRUE)\n",
    "            }\n",
    "            \n",
    "            if(algorithm == \"louvain\"){\n",
    "                c <- multilevel.community(G)\n",
    "                #c <- cluster_louvain(G)\n",
    "            }\n",
    "            \n",
    "            if(algorithm == \"infomap\"){\n",
    "                #c <- cluster_infomap(G)\n",
    "                c <- infomap.community(G)\n",
    "            }\n",
    "            \n",
    "            svg(fig_name)\n",
    "            plot(c, G)\n",
    "            dev.off()\n",
    "            \n",
    "            return(membership(c))\n",
    "        {\n",
    "    ''')\n",
    "    \n",
    "    labels = igG(gml_file_name, algorithm, fig_name)\n",
    "    os.remove(gml_file_name)\n",
    "    return np.array(labels)"
   ]
  },
  {
   "cell_type": "code",
   "execution_count": 8,
   "metadata": {
    "collapsed": true
   },
   "outputs": [],
   "source": [
    "Z=community(G, \"infomap\", fig_name = \"G\")"
   ]
  },
  {
   "cell_type": "code",
   "execution_count": 35,
   "metadata": {},
   "outputs": [
    {
     "data": {
      "text/plain": [
       "array([ 1.,  5.,  1.,  1.,  4.,  1.,  5.,  3.,  3.,  2.,  2.,  1.,  4.,\n",
       "        2.,  3.,  5.,  4.,  1.,  4.,  2.,  5.,  3.,  4.,  1.,  2.,  2.,\n",
       "        2.,  2.,  3.,  5.,  2.,  3.,  1.,  3.,  3.,  1.,  3.,  2.,  1.,\n",
       "        1.,  2.,  1.,  3.,  4.,  6.,  6.,  2.,  1.,  2.,  3.,  1.,  4.,\n",
       "        1.,  1.,  2.,  1.,  3.,  1.,  1.,  2.,  1.,  2.])"
      ]
     },
     "execution_count": 35,
     "metadata": {},
     "output_type": "execute_result"
    }
   ],
   "source": [
    "Z"
   ]
  },
  {
   "cell_type": "code",
   "execution_count": 21,
   "metadata": {
    "collapsed": true
   },
   "outputs": [],
   "source": [
    "ClusterNodo=[]\n",
    "m=0\n",
    "for i in G.nodes():\n",
    "    ClusterNodo.append([Z[m],i])\n",
    "    m+=1\n",
    "sorted(ClusterNodo)\n",
    "\n",
    "C=[]\n",
    "for i in set(Z):\n",
    "    c=[]\n",
    "    for k in ClusterNodo:\n",
    "        if k[0]==i:\n",
    "            c.append(k[1])\n",
    "    C.append(c)"
   ]
  },
  {
   "cell_type": "code",
   "execution_count": 25,
   "metadata": {
    "collapsed": true
   },
   "outputs": [],
   "source": [
    "SilI=Silhouette2(C,G)\n",
    "SilouI=[]\n",
    "SCI=[]\n",
    "Color=[\"r\",\"g\",\"b\",\"y\",\"m\",\"c\"]\n",
    "b=0\n",
    "for i in SilI:\n",
    "    for j in i:\n",
    "        SCI.append(Color[b])\n",
    "        SilouI.append(j)\n",
    "    b+=1"
   ]
  },
  {
   "cell_type": "code",
   "execution_count": 28,
   "metadata": {},
   "outputs": [
    {
     "data": {
      "image/png": "[encoded data removed]",
      "text/plain": [
       "<matplotlib.figure.Figure at 0x7fd0bcc09668>"
      ]
     },
     "metadata": {},
     "output_type": "display_data"
    }
   ],
   "source": [
    "# Graficando siloutte Infomap\n",
    "plt.rcdefaults()\n",
    "fig, ax = plt.subplots()\n",
    "\n",
    "\n",
    "y_pos = np.arange(1,63)\n",
    "sil= SilouI\n",
    "ax.barh(y_pos, sil, align='center',\n",
    "        color=SCI)\n",
    "\n",
    "plt.axvline(sum(sil)/len(sil),c=\"k\")\n",
    "plt.show()"
   ]
  },
  {
   "cell_type": "code",
   "execution_count": 54,
   "metadata": {
    "scrolled": false
   },
   "outputs": [
    {
     "data": {
      "image/png": "[encoded data removed]",
      "text/plain": [
       "<matplotlib.figure.Figure at 0x7fd0b6e4fbe0>"
      ]
     },
     "metadata": {},
     "output_type": "display_data"
    },
    {
     "data": {
      "image/png": "[encoded data removed]",
      "text/plain": [
       "<matplotlib.figure.Figure at 0x7fd0b6f11208>"
      ]
     },
     "metadata": {},
     "output_type": "display_data"
    }
   ],
   "source": [
    "\n",
    "nx.draw(G,\n",
    "        cmap=plt.get_cmap('plasma'),\n",
    "        node_color=Z,\n",
    "        node_size=500,\n",
    "        alpha=1)\n",
    "\n",
    "plt.show()\n",
    "\n",
    "nx.draw(G,\n",
    "        cmap=plt.get_cmap('plasma'),\n",
    "        node_color=list(partition.values()),\n",
    "        node_size=500,\n",
    "        alpha=1)\n",
    "\n",
    "plt.show()\n"
   ]
  },
  {
   "cell_type": "markdown",
   "metadata": {},
   "source": [
    "b.\n",
    "Caracterice  las  particiones  obtenidas  en  términos  de  modularidad  y  silouhette\n",
    "de  cada \n",
    "particion\n",
    ".\n",
    "Compare con valores esperados en redes recableadas\n",
    "y establezca si tiene derecho a \n",
    "llamar modular a esta red.\n",
    "c.\n",
    "C\n",
    "aracterice cuantitativamente\n",
    "el acuerdo entre las \n",
    "particiones obtenidas\n",
    "utilizando \n",
    "uno o más \n",
    "de los observables vistos en clase.\n",
    "d.\n",
    "Analice \n",
    "cuantitativamente \n",
    "la  relación \n",
    "entre  el  género  de  los  delfines  y  la  estructura  de \n",
    "comunidades  del  grupo. \n",
    "Puede  utilizar  para  ello,  por\n",
    "ejemplo,  tests  de  sobre\n",
    "-\n",
    "representación\n",
    "y/o  sub\n",
    "-\n",
    "representacion\n",
    ".\n",
    "Qué \n",
    "hipótesis\n",
    "p\n",
    "uede  aventurar \n",
    "sobre  propiedades  comportamentales \n",
    "de este grupo de delfines a partir de \n",
    "lo enc\n",
    "ontrado?\n",
    "2)\n",
    "[optativo]  Implemente  un  algoritmo  de  reconocimiento  de  comunas  basado  en  la  metodología  de \n",
    "percolación de cliques. \n",
    "Qué individuos son los \n",
    "más sociables de la comunidad?"
   ]
  }
 ],
 "metadata": {
  "kernelspec": {
   "display_name": "Python 3",
   "language": "python",
   "name": "python3"
  },
  "language_info": {
   "codemirror_mode": {
    "name": "ipython",
    "version": 3
   },
   "file_extension": ".py",
   "mimetype": "text/x-python",
   "name": "python",
   "nbconvert_exporter": "python",
   "pygments_lexer": "ipython3",
   "version": "3.5.2"
  }
 },
 "nbformat": 4,
 "nbformat_minor": 2
}
